{
 "cells": [
  {
   "cell_type": "markdown",
   "metadata": {},
   "source": [
    "# 訓練画像の水増しを行う"
   ]
  },
  {
   "cell_type": "markdown",
   "metadata": {},
   "source": [
    "## 実行前のフォルダ構成\n",
    "- RebarE  \n",
    "    - Ree_Input  \n",
    "    - Ree_label  \n",
    "    - train_img  \n",
    "    - train_seg  \n",
    "    - val_img  \n",
    "    - val_seg  \n",
    "    - test_img  \n",
    "---\n",
    "## 追加したフォルダ\n",
    "- RebarE  \n",
    "    - train_arg  \n",
    "    - trainseg_arg  "
   ]
  },
  {
   "cell_type": "code",
   "execution_count": 1,
   "metadata": {},
   "outputs": [],
   "source": [
    "import os\n",
    "import numpy as np\n",
    "import random\n",
    "from PIL import Image"
   ]
  },
  {
   "cell_type": "code",
   "execution_count": 44,
   "metadata": {},
   "outputs": [],
   "source": [
    "#dir_img = os.path.join(\"Input_JPEG\")\n",
    "#dir_seg = os.path.join(\"SegmentationClass\")\n",
    "\n",
    "save_dir = os.path.join(\"RebarE\")\n",
    "train_img = os.path.join(save_dir,\"train_img\")\n",
    "train_seg = os.path.join(save_dir, \"train_seg\")\n",
    "val_img = os.path.join(save_dir, \"val_img\")\n",
    "val_seg = os.path.join(save_dir, \"val_seg\")\n",
    "test_img = os.path.join(save_dir, \"test_img\")\n",
    "test_seg = os.path.join(save_dir, \"test_seg\")\n",
    "\n",
    "train_arg = os.path.join(save_dir,\"train_arg\")\n",
    "os.makedirs(train_arg,exist_ok=True)\n",
    "trainseg_arg = os.path.join(save_dir, \"trainseg_arg\")\n",
    "os.makedirs(trainseg_arg,exist_ok=True)"
   ]
  },
  {
   "cell_type": "markdown",
   "metadata": {},
   "source": [
    "## 左右反転\n",
    "\n",
    " 拡大  \n",
    " img_resize = img.resize((int(img.width/2), int(img.height/2)))  \n",
    " 左右反転  \n",
    " h_img = img.transpose(Image.FLIP_LEFT_RIGHT)  \n",
    " 回転  \n",
    " r_img = img.rotate(angle)  \n",
    " 平行移動  \n",
    " im_rotate = img.rotate(angle, translate=(100,50))"
   ]
  },
  {
   "cell_type": "markdown",
   "metadata": {},
   "source": [
    "## 回転, 平行移動"
   ]
  },
  {
   "cell_type": "code",
   "execution_count": 45,
   "metadata": {},
   "outputs": [
    {
     "data": {
      "text/plain": [
       "-8"
      ]
     },
     "execution_count": 45,
     "metadata": {},
     "output_type": "execute_result"
    }
   ],
   "source": [
    "r1 = []\n",
    "for i in np.arange(-10,10,1):\n",
    "    r1.append(i)\n",
    "random.choice(r1)\n"
   ]
  },
  {
   "cell_type": "code",
   "execution_count": 46,
   "metadata": {},
   "outputs": [],
   "source": [
    "# 元画像に回転、平行移動して水増しするかどうか指定する\n",
    "# 水増し画像を 'train_arg', 'trainseg_arg' フォルダに出力する\n",
    "# (元画像 + 回転2種類 + 平行移動2種類) = 5種類\n",
    "shift_arg = True\n",
    "\n",
    "train_file = os.listdir(train_img)\n",
    "trainseg_file = os.listdir(train_seg)\n",
    "\n",
    "for path in train_file:\n",
    "    path = path[:-4]\n",
    "    input_img = Image.open(os.path.join(train_img, path + \".jpg\"))\n",
    "    input_seg = Image.open(os.path.join(train_seg, path + \".png\"))\n",
    "    input_img.save(os.path.join(train_arg, path+\".jpg\"))\n",
    "    input_seg.save(os.path.join(trainseg_arg, path+\".png\"))\n",
    "\n",
    "    if shift_arg == True:\n",
    "        # 回転\n",
    "        random.shuffle(r1)\n",
    "        for i in range(2):\n",
    "            r = r1[i]\n",
    "            r_img = input_img.rotate(r)\n",
    "            r_img.save(os.path.join(train_arg, \"rotate_\" + str(r)+ \"_\"+ path+ \".jpg\"))\n",
    "            r_seg = input_seg.rotate(r)\n",
    "            r_seg.save(os.path.join(trainseg_arg, \"rotate_\" + str(r)+ \"_\"+ path+\".png\"))\n",
    "\n",
    "        # 平行移動\n",
    "        tr1,tr2 = [], []\n",
    "        for i in np.arange(int(input_img.height*(-0.1)),int(input_img.height*0.1), 1):\n",
    "            tr1.append(i)\n",
    "        for i in np.arange(int(input_img.width*(-0.1)), int(input_img.width*0.1), 1):\n",
    "            tr2.append(i)\n",
    "        random.shuffle(tr1), random.shuffle(tr2)\n",
    "\n",
    "        for i in range(2):\n",
    "            t1,t2 = tr1[i], tr2[i]\n",
    "            t_img = input_img.rotate(0, translate=(t1,t2))\n",
    "            t_seg = input_seg.rotate(0, translate=(t1,t2))\n",
    "            t_img.save(os.path.join(train_arg,\"trans_\" + str(t1)+ \"+\" + str(t2)+ \"_\" + path+\".jpg\"))\n",
    "            t_seg.save(os.path.join(trainseg_arg,\"trans_\" + str(t1)+ \"+\" + str(t2)+ \"_\" + path+\".png\"))\n"
   ]
  },
  {
   "cell_type": "code",
   "execution_count": 47,
   "metadata": {},
   "outputs": [],
   "source": [
    "# 元画像に左右反転して水増しするかどうか指定する\n",
    "# 水増し画像を 'train_arg', 'trainseg_arg' フォルダに出力する\n",
    "# (元画像 + 回転2種類 + 平行移動2種類)*(左右反転2種類) = 10種類\n",
    "flip_arg = True\n",
    "\n",
    "train_argfile = os.listdir(train_arg)\n",
    "trainseg_argfile = os.listdir(trainseg_arg)\n",
    "\n",
    "if flip_arg:\n",
    "    for path in train_argfile:\n",
    "        path = path[:-4]\n",
    "        input_img = Image.open(os.path.join(train_arg, path+\".jpg\"))\n",
    "        input_seg = Image.open(os.path.join(trainseg_arg, path+\".png\"))\n",
    "        #input_img.save(os.path.join(train_arg, path+\".jpg\"))\n",
    "        #input_seg.save(os.path.join(trainseg_arg, path+\".png\"))\n",
    "\n",
    "        h_img = input_img.transpose(Image.FLIP_LEFT_RIGHT)\n",
    "        h_seg = input_seg.transpose(Image.FLIP_LEFT_RIGHT)\n",
    "        h_img.save(os.path.join(train_arg, \"flip_\"+ path +\".jpg\"))\n",
    "        h_seg.save(os.path.join(trainseg_arg, \"flip_\"+ path +\".png\"))\n"
   ]
  },
  {
   "cell_type": "code",
   "execution_count": 48,
   "metadata": {},
   "outputs": [
    {
     "data": {
      "text/plain": [
       "57"
      ]
     },
     "execution_count": 48,
     "metadata": {},
     "output_type": "execute_result"
    }
   ],
   "source": [
    "len(trainseg_file)"
   ]
  },
  {
   "cell_type": "code",
   "execution_count": 49,
   "metadata": {},
   "outputs": [
    {
     "data": {
      "text/plain": [
       "570"
      ]
     },
     "execution_count": 49,
     "metadata": {},
     "output_type": "execute_result"
    }
   ],
   "source": [
    "len(os.listdir(train_arg))"
   ]
  },
  {
   "cell_type": "code",
   "execution_count": null,
   "metadata": {},
   "outputs": [],
   "source": []
  }
 ],
 "metadata": {
  "kernelspec": {
   "display_name": "Python 3",
   "language": "python",
   "name": "python3"
  },
  "language_info": {
   "codemirror_mode": {
    "name": "ipython",
    "version": 3
   },
   "file_extension": ".py",
   "mimetype": "text/x-python",
   "name": "python",
   "nbconvert_exporter": "python",
   "pygments_lexer": "ipython3",
   "version": "3.6.6"
  }
 },
 "nbformat": 4,
 "nbformat_minor": 2
}

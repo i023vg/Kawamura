{
 "cells": [
  {
   "cell_type": "code",
   "execution_count": 33,
   "metadata": {},
   "outputs": [],
   "source": [
    "import pandas as pd\n",
    "import cv2,os\n",
    "from PIL import Image\n",
    "import matplotlib.pyplot as plt\n",
    "%matplotlib inline"
   ]
  },
  {
   "cell_type": "code",
   "execution_count": 48,
   "metadata": {},
   "outputs": [],
   "source": [
    "#df = pd.read_csv('annotation_ver2.csv', header=None)\n",
    "df = pd.read_csv('annotation_ver2_label.csv', header=None)"
   ]
  },
  {
   "cell_type": "code",
   "execution_count": 49,
   "metadata": {},
   "outputs": [
    {
     "data": {
      "text/html": [
       "<div>\n",
       "<style scoped>\n",
       "    .dataframe tbody tr th:only-of-type {\n",
       "        vertical-align: middle;\n",
       "    }\n",
       "\n",
       "    .dataframe tbody tr th {\n",
       "        vertical-align: top;\n",
       "    }\n",
       "\n",
       "    .dataframe thead th {\n",
       "        text-align: right;\n",
       "    }\n",
       "</style>\n",
       "<table border=\"1\" class=\"dataframe\">\n",
       "  <thead>\n",
       "    <tr style=\"text-align: right;\">\n",
       "      <th></th>\n",
       "      <th>0</th>\n",
       "      <th>1</th>\n",
       "      <th>2</th>\n",
       "      <th>3</th>\n",
       "      <th>4</th>\n",
       "      <th>5</th>\n",
       "      <th>6</th>\n",
       "      <th>7</th>\n",
       "      <th>8</th>\n",
       "      <th>9</th>\n",
       "      <th>10</th>\n",
       "    </tr>\n",
       "  </thead>\n",
       "  <tbody>\n",
       "    <tr>\n",
       "      <th>0</th>\n",
       "      <td>1</td>\n",
       "      <td>1</td>\n",
       "      <td>C:\\Users\\K.Nakamura\\Desktop\\Yolo_Unet\\Original...</td>\n",
       "      <td>281</td>\n",
       "      <td>1</td>\n",
       "      <td>352</td>\n",
       "      <td>450</td>\n",
       "      <td>600</td>\n",
       "      <td>450</td>\n",
       "      <td>Crack</td>\n",
       "      <td>C:\\Users\\K.Nakamura\\Desktop\\Yolo_Unet\\Original...</td>\n",
       "    </tr>\n",
       "    <tr>\n",
       "      <th>1</th>\n",
       "      <td>2</td>\n",
       "      <td>2</td>\n",
       "      <td>C:\\Users\\K.Nakamura\\Desktop\\Yolo_Unet\\Original...</td>\n",
       "      <td>241</td>\n",
       "      <td>1</td>\n",
       "      <td>314</td>\n",
       "      <td>450</td>\n",
       "      <td>600</td>\n",
       "      <td>450</td>\n",
       "      <td>Crack</td>\n",
       "      <td>C:\\Users\\K.Nakamura\\Desktop\\Yolo_Unet\\Original...</td>\n",
       "    </tr>\n",
       "    <tr>\n",
       "      <th>2</th>\n",
       "      <td>3</td>\n",
       "      <td>3</td>\n",
       "      <td>C:\\Users\\K.Nakamura\\Desktop\\Yolo_Unet\\Original...</td>\n",
       "      <td>153</td>\n",
       "      <td>1</td>\n",
       "      <td>363</td>\n",
       "      <td>450</td>\n",
       "      <td>600</td>\n",
       "      <td>450</td>\n",
       "      <td>Crack</td>\n",
       "      <td>C:\\Users\\K.Nakamura\\Desktop\\Yolo_Unet\\Original...</td>\n",
       "    </tr>\n",
       "  </tbody>\n",
       "</table>\n",
       "</div>"
      ],
      "text/plain": [
       "   0   1                                                  2    3   4    5   \\\n",
       "0   1   1  C:\\Users\\K.Nakamura\\Desktop\\Yolo_Unet\\Original...  281   1  352   \n",
       "1   2   2  C:\\Users\\K.Nakamura\\Desktop\\Yolo_Unet\\Original...  241   1  314   \n",
       "2   3   3  C:\\Users\\K.Nakamura\\Desktop\\Yolo_Unet\\Original...  153   1  363   \n",
       "\n",
       "    6    7    8      9                                                  10  \n",
       "0  450  600  450  Crack  C:\\Users\\K.Nakamura\\Desktop\\Yolo_Unet\\Original...  \n",
       "1  450  600  450  Crack  C:\\Users\\K.Nakamura\\Desktop\\Yolo_Unet\\Original...  \n",
       "2  450  600  450  Crack  C:\\Users\\K.Nakamura\\Desktop\\Yolo_Unet\\Original...  "
      ]
     },
     "execution_count": 49,
     "metadata": {},
     "output_type": "execute_result"
    }
   ],
   "source": [
    "df.head(3)"
   ]
  },
  {
   "cell_type": "code",
   "execution_count": 50,
   "metadata": {},
   "outputs": [],
   "source": [
    "df.columns=['','', 'path', '始点のx', '始点のy', '幅', '高さ','元の幅', '元の高さ', '正解ラベル', 'cut_path']"
   ]
  },
  {
   "cell_type": "code",
   "execution_count": 51,
   "metadata": {},
   "outputs": [
    {
     "data": {
      "text/html": [
       "<div>\n",
       "<style scoped>\n",
       "    .dataframe tbody tr th:only-of-type {\n",
       "        vertical-align: middle;\n",
       "    }\n",
       "\n",
       "    .dataframe tbody tr th {\n",
       "        vertical-align: top;\n",
       "    }\n",
       "\n",
       "    .dataframe thead th {\n",
       "        text-align: right;\n",
       "    }\n",
       "</style>\n",
       "<table border=\"1\" class=\"dataframe\">\n",
       "  <thead>\n",
       "    <tr style=\"text-align: right;\">\n",
       "      <th></th>\n",
       "      <th></th>\n",
       "      <th></th>\n",
       "      <th>path</th>\n",
       "      <th>始点のx</th>\n",
       "      <th>始点のy</th>\n",
       "      <th>幅</th>\n",
       "      <th>高さ</th>\n",
       "      <th>元の幅</th>\n",
       "      <th>元の高さ</th>\n",
       "      <th>正解ラベル</th>\n",
       "      <th>cut_path</th>\n",
       "    </tr>\n",
       "  </thead>\n",
       "  <tbody>\n",
       "    <tr>\n",
       "      <th>0</th>\n",
       "      <td>1</td>\n",
       "      <td>1</td>\n",
       "      <td>C:\\Users\\K.Nakamura\\Desktop\\Yolo_Unet\\Original...</td>\n",
       "      <td>281</td>\n",
       "      <td>1</td>\n",
       "      <td>352</td>\n",
       "      <td>450</td>\n",
       "      <td>600</td>\n",
       "      <td>450</td>\n",
       "      <td>Crack</td>\n",
       "      <td>C:\\Users\\K.Nakamura\\Desktop\\Yolo_Unet\\Original...</td>\n",
       "    </tr>\n",
       "    <tr>\n",
       "      <th>1</th>\n",
       "      <td>2</td>\n",
       "      <td>2</td>\n",
       "      <td>C:\\Users\\K.Nakamura\\Desktop\\Yolo_Unet\\Original...</td>\n",
       "      <td>241</td>\n",
       "      <td>1</td>\n",
       "      <td>314</td>\n",
       "      <td>450</td>\n",
       "      <td>600</td>\n",
       "      <td>450</td>\n",
       "      <td>Crack</td>\n",
       "      <td>C:\\Users\\K.Nakamura\\Desktop\\Yolo_Unet\\Original...</td>\n",
       "    </tr>\n",
       "    <tr>\n",
       "      <th>2</th>\n",
       "      <td>3</td>\n",
       "      <td>3</td>\n",
       "      <td>C:\\Users\\K.Nakamura\\Desktop\\Yolo_Unet\\Original...</td>\n",
       "      <td>153</td>\n",
       "      <td>1</td>\n",
       "      <td>363</td>\n",
       "      <td>450</td>\n",
       "      <td>600</td>\n",
       "      <td>450</td>\n",
       "      <td>Crack</td>\n",
       "      <td>C:\\Users\\K.Nakamura\\Desktop\\Yolo_Unet\\Original...</td>\n",
       "    </tr>\n",
       "  </tbody>\n",
       "</table>\n",
       "</div>"
      ],
      "text/plain": [
       "                                                      path  始点のx  始点のy    幅  \\\n",
       "0  1  1  C:\\Users\\K.Nakamura\\Desktop\\Yolo_Unet\\Original...   281     1  352   \n",
       "1  2  2  C:\\Users\\K.Nakamura\\Desktop\\Yolo_Unet\\Original...   241     1  314   \n",
       "2  3  3  C:\\Users\\K.Nakamura\\Desktop\\Yolo_Unet\\Original...   153     1  363   \n",
       "\n",
       "    高さ  元の幅  元の高さ  正解ラベル                                           cut_path  \n",
       "0  450  600   450  Crack  C:\\Users\\K.Nakamura\\Desktop\\Yolo_Unet\\Original...  \n",
       "1  450  600   450  Crack  C:\\Users\\K.Nakamura\\Desktop\\Yolo_Unet\\Original...  \n",
       "2  450  600   450  Crack  C:\\Users\\K.Nakamura\\Desktop\\Yolo_Unet\\Original...  "
      ]
     },
     "execution_count": 51,
     "metadata": {},
     "output_type": "execute_result"
    }
   ],
   "source": [
    "df.head(3)"
   ]
  },
  {
   "cell_type": "code",
   "execution_count": 52,
   "metadata": {},
   "outputs": [],
   "source": [
    "path = df[['path']].loc[:,'path']\n",
    "start_x = df[['始点のx']].loc[:,'始点のx']\n",
    "start_y = df[['始点のy']].loc[:,'始点のy']\n",
    "width = df[['幅']].loc[:,'幅']\n",
    "height = df[['高さ']].loc[:,'高さ']"
   ]
  },
  {
   "cell_type": "code",
   "execution_count": 53,
   "metadata": {},
   "outputs": [
    {
     "data": {
      "text/plain": [
       "'C:\\\\Users\\\\K.Nakamura\\\\Desktop\\\\Yolo_Unet\\\\OriginalImage-all-label\\\\Cra001.png'"
      ]
     },
     "execution_count": 53,
     "metadata": {},
     "output_type": "execute_result"
    }
   ],
   "source": [
    "path[0]"
   ]
  },
  {
   "cell_type": "code",
   "execution_count": 54,
   "metadata": {},
   "outputs": [
    {
     "data": {
      "text/plain": [
       "'C:\\\\Users\\\\K.Nakamura\\\\Desktop\\\\Yolo_Unet\\\\OriginalImage-all-label\\\\Cra001'"
      ]
     },
     "execution_count": 54,
     "metadata": {},
     "output_type": "execute_result"
    }
   ],
   "source": [
    "path[0][:-4]"
   ]
  },
  {
   "cell_type": "code",
   "execution_count": 55,
   "metadata": {},
   "outputs": [
    {
     "data": {
      "text/plain": [
       "1498"
      ]
     },
     "execution_count": 55,
     "metadata": {},
     "output_type": "execute_result"
    }
   ],
   "source": [
    "len(path)"
   ]
  },
  {
   "cell_type": "code",
   "execution_count": 25,
   "metadata": {},
   "outputs": [],
   "source": [
    "NUM=1"
   ]
  },
  {
   "cell_type": "code",
   "execution_count": 26,
   "metadata": {},
   "outputs": [],
   "source": [
    "img = cv2.imread(path[NUM])"
   ]
  },
  {
   "cell_type": "code",
   "execution_count": 27,
   "metadata": {},
   "outputs": [
    {
     "data": {
      "text/plain": [
       "<matplotlib.image.AxesImage at 0x1e54b3bb3c8>"
      ]
     },
     "execution_count": 27,
     "metadata": {},
     "output_type": "execute_result"
    },
    {
     "data": {
      "image/png": "[encoded data removed]",
      "text/plain": [
       "<Figure size 432x288 with 1 Axes>"
      ]
     },
     "metadata": {
      "needs_background": "light"
     },
     "output_type": "display_data"
    }
   ],
   "source": [
    "plt.imshow(img)"
   ]
  },
  {
   "cell_type": "code",
   "execution_count": 28,
   "metadata": {},
   "outputs": [
    {
     "data": {
      "text/plain": [
       "'Cra001.png'"
      ]
     },
     "execution_count": 28,
     "metadata": {},
     "output_type": "execute_result"
    }
   ],
   "source": [
    "os.path.basename(path[0])"
   ]
  },
  {
   "cell_type": "code",
   "execution_count": 30,
   "metadata": {},
   "outputs": [
    {
     "data": {
      "text/plain": [
       "True"
      ]
     },
     "execution_count": 30,
     "metadata": {},
     "output_type": "execute_result"
    }
   ],
   "source": [
    "cut_img = img[start_y[NUM]:(start_y[NUM]+height[NUM]), start_x[NUM]:(start_x[NUM]+width[NUM])]\n",
    "\n",
    "#cv2.imwrite('OriginalImage_Cut/Cut_'+ os.path.basename(path[NUM]), cut_img)\n",
    "#cv2.imwrite('OriginalImage_Cut/Cut_'+ str(NUM) + '.jpg', cut_img)\n",
    "cv2.imwrite('LabelImage_Cut/Cut_'+ str(NUM) + '.png', cut_img)"
   ]
  },
  {
   "cell_type": "code",
   "execution_count": 31,
   "metadata": {},
   "outputs": [
    {
     "data": {
      "text/plain": [
       "<matplotlib.image.AxesImage at 0x1e54b24f400>"
      ]
     },
     "execution_count": 31,
     "metadata": {},
     "output_type": "execute_result"
    },
    {
     "data": {
      "image/png": "[encoded data removed]",
      "text/plain": [
       "<Figure size 432x288 with 1 Axes>"
      ]
     },
     "metadata": {
      "needs_background": "light"
     },
     "output_type": "display_data"
    }
   ],
   "source": [
    "plt.imshow(cut_img)"
   ]
  },
  {
   "cell_type": "code",
   "execution_count": 56,
   "metadata": {},
   "outputs": [],
   "source": [
    "for i in range(len(path)):\n",
    "    img = cv2.imread(path[i])\n",
    "    cut_img = img[start_y[i]:(start_y[i]+height[i]), start_x[i]:(start_x[i]+width[i])]\n",
    "    #cv2.imwrite('OriginalImage_Cut/Cut_'+  os.path.basename(path[i]), cut_img)\n",
    "    #cv2.imwrite('OriginalImage_Cut/Cut_'+ str(i+1) + '.jpg', cut_img)\n",
    "    cv2.imwrite('LabelImage_Cut/Cut_'+ str(i+1) + '.png', cut_img)"
   ]
  }
 ],
 "metadata": {
  "kernelspec": {
   "display_name": "Python 3",
   "language": "python",
   "name": "python3"
  },
  "language_info": {
   "codemirror_mode": {
    "name": "ipython",
    "version": 3
   },
   "file_extension": ".py",
   "mimetype": "text/x-python",
   "name": "python",
   "nbconvert_exporter": "python",
   "pygments_lexer": "ipython3",
   "version": "3.6.6"
  }
 },
 "nbformat": 4,
 "nbformat_minor": 2
}

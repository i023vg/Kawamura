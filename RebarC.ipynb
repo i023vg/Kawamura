{
 "cells": [
  {
   "cell_type": "code",
   "execution_count": 1,
   "metadata": {},
   "outputs": [],
   "source": [
    "##############################################################################################\n",
    "# セマンティックセグメンテーションのための完全畳み込みネットワークの詳細\n",
    "# https://fairyonice.github.io/Learn-about-Fully-Convolutional-Networks-for-semantic-segmentation.html\n",
    "##############################################################################################\n",
    "\n",
    "import numpy as np\n",
    "import matplotlib.pyplot as plt\n",
    "from PIL import Image\n",
    "import glob,os,cv2\n",
    "\n",
    "BATCH_SIZE = 16\n",
    "EPOCH = 250\n",
    "\n",
    "\n",
    "dir_data = \"RebarC/\"\n",
    "dir_seg = os.path.join(dir_data, \"Rec_label/\")\n",
    "dir_img = os.path.join(dir_data,  \"Rec_Input/\")\n",
    "\n",
    "save_dir = os.path.join(\"RebarC\")\n",
    "result_dir = os.path.join(save_dir,\"result_dir\")\n",
    "train_img = os.path.join(save_dir, \"train_img\")\n",
    "train_seg = os.path.join(save_dir, \"train_seg\")\n",
    "val_img = os.path.join(save_dir, \"val_img\")\n",
    "val_seg = os.path.join(save_dir, \"val_seg\")\n",
    "test_img = os.path.join(save_dir, \"test_img\")\n",
    "test_seg = os.path.join(save_dir, \"test_seg\")\n",
    "\n",
    "train_pred = os.path.join(save_dir, \"train_pred\")\n",
    "test_pred = os.path.join(save_dir, \"test_pred\")"
   ]
  },
  {
   "cell_type": "code",
   "execution_count": 2,
   "metadata": {},
   "outputs": [],
   "source": [
    "class_names = [\"background\",\"RebarC\"]\n",
    "pixelID = [[0,0,0], [0,0,128]]\n"
   ]
  },
  {
   "cell_type": "code",
   "execution_count": 3,
   "metadata": {},
   "outputs": [],
   "source": [
    "def images_load(original_dir, segmented_dir, init_size):\n",
    "    # フォルダの画像パスを取得\n",
    "    origin_filenames = os.listdir(original_dir)\n",
    "    segmented_filenames = os.listdir(segmented_dir)\n",
    "    \n",
    "    images_original, images_segmented = [], []\n",
    "    \n",
    "    # 入力画像の読み込み\n",
    "    print(\"Loading original images ....\")\n",
    "    for i, origin_filename in enumerate(origin_filenames):\n",
    "        origin_img = Image.open(os.path.join(original_dir, origin_filename))\n",
    "        # Crop処理\n",
    "        origin_img =  crop_to_square(origin_img)\n",
    "        # resize処理(224,224)\n",
    "        # 画像中のジャギーを目立たなくする処理\n",
    "        origin_img = origin_img.resize(init_size, Image.ANTIALIAS)\n",
    "        # numpy配列に変換\n",
    "        origin_img = np.asarray(origin_img)\n",
    "        # normalize処理\n",
    "        origin_img = origin_img.astype(\"float\")/255.0\n",
    "        images_original.append(origin_img)\n",
    "    print(\"Completed\")    \n",
    "    \n",
    "    # 教師画像の読み込み\n",
    "    print(\"Loading segmented images...\")\n",
    "    for i, seg_filename in enumerate(segmented_filenames):\n",
    "        seg_img = Image.open(os.path.join(segmented_dir, seg_filename))\n",
    "        # Crop処理\n",
    "        seg_img = crop_to_square(seg_img)\n",
    "        # resize処理\n",
    "        seg_img = seg_img.resize(init_size)\n",
    "        # numpy配列に変換\n",
    "        seg_img = np.asarray(seg_img)\n",
    "        images_segmented.append(seg_img)\n",
    "    print(\"Completed\")\n",
    "    \n",
    "    # images_originalとimages_segmentedの長さが同じか確かめる\n",
    "    assert len(images_original) == len(images_segmented)\n",
    "    \n",
    "    # numpy配列に変換\n",
    "    images_original = np.asarray(images_original, dtype=np.float32)\n",
    "    images_segmented = np.asarray(images_segmented, dtype=np.uint8)\n",
    "    \n",
    "    #クラス'void'を 255=>21 に変更\n",
    "    #images_segmented = np.where(images_segmented>=3, len(class_names)-1, images_segmented)\n",
    "\n",
    "    # One-hot-encodingを行う\n",
    "    print(\"Casting to one-hot encoding...\")\n",
    "    ID = np.zeros((images_segmented.shape[0],images_segmented.shape[1],images_segmented.shape[2]), dtype=np.uint8)\n",
    "    for num in range(images_segmented.shape[0]):\n",
    "        for i in range(images_segmented.shape[1]):\n",
    "            for j in range(images_segmented.shape[2]):\n",
    "                \n",
    "                for c in range(len(pixelID)):\n",
    "                    if all(images_segmented[num][i][j]==pixelID[c]):\n",
    "                        ID[num][i][j]=c\n",
    "                \n",
    "    identity = np.identity(len(class_names), dtype=np.uint8)\n",
    "    images_segmented = identity[ID]\n",
    "    print(\"Done\")\n",
    "    \n",
    "    print(\"Input_images Shape :  \", end=\"\")\n",
    "    print(images_original.shape)\n",
    "    print(\"Segmented_images Shape : \", end=\"\")\n",
    "    print(images_segmented.shape)\n",
    "    return images_original, images_segmented\n",
    "\n",
    "def crop_to_square(image):\n",
    "    size = min(image.size)\n",
    "    left, upper = (image.width - size) // 2, (image.height - size) // 2\n",
    "    right, bottom = (image.width + size) // 2, (image.height + size) // 2\n",
    "    return image.crop((left,upper, right,bottom))"
   ]
  },
  {
   "cell_type": "code",
   "execution_count": 4,
   "metadata": {},
   "outputs": [
    {
     "name": "stdout",
     "output_type": "stream",
     "text": [
      "Load start...\n",
      "Loading original images ....\n",
      "Completed\n",
      "Loading segmented images...\n",
      "Completed\n",
      "Casting to one-hot encoding...\n",
      "Done\n",
      "Input_images Shape :  (96, 224, 224, 3)\n",
      "Segmented_images Shape : (96, 224, 224, 2)\n",
      "Loading original images ....\n",
      "Completed\n",
      "Loading segmented images...\n",
      "Completed\n",
      "Casting to one-hot encoding...\n",
      "Done\n",
      "Input_images Shape :  (24, 224, 224, 3)\n",
      "Segmented_images Shape : (24, 224, 224, 2)\n",
      "Loading original images ....\n",
      "Completed\n",
      "Loading segmented images...\n",
      "Completed\n",
      "Casting to one-hot encoding...\n",
      "Done\n",
      "Input_images Shape :  (30, 224, 224, 3)\n",
      "Segmented_images Shape : (30, 224, 224, 2)\n",
      "original_train data : 96\n",
      "segmented_train data : 96\n",
      "original_validation data : 24\n",
      "segmented_validation data : 24\n",
      "original_test data : 30\n",
      "segmented_test data : 30\n"
     ]
    }
   ],
   "source": [
    "print(\"Load start...\")\n",
    "original_train, segmented_train = images_load(train_img, train_seg, init_size=(224,224))\n",
    "original_val, segmented_val = images_load(val_img, val_seg, init_size=(224,224))\n",
    "original_test, segmented_test = images_load(test_img, test_seg, init_size=(224,224))\n",
    "\n",
    "print(\"original_train data : \", end=\"\")\n",
    "print(len(original_train))\n",
    "print(\"segmented_train data : \", end=\"\")\n",
    "print(len(segmented_train))\n",
    "print(\"original_validation data : \", end=\"\")\n",
    "print(len(original_val))\n",
    "print(\"segmented_validation data : \", end=\"\")\n",
    "print(len(segmented_val))\n",
    "print(\"original_test data : \", end=\"\")\n",
    "print(len(original_test))\n",
    "print(\"segmented_test data : \", end=\"\")\n",
    "print(len(segmented_test))"
   ]
  },
  {
   "cell_type": "code",
   "execution_count": 5,
   "metadata": {},
   "outputs": [
    {
     "data": {
      "text/plain": [
       "array([0., 0.])"
      ]
     },
     "execution_count": 5,
     "metadata": {},
     "output_type": "execute_result"
    }
   ],
   "source": [
    "sum_cnt = np.zeros(segmented_train.shape[3])\n",
    "sum_cnt"
   ]
  },
  {
   "cell_type": "code",
   "execution_count": 6,
   "metadata": {},
   "outputs": [
    {
     "data": {
      "text/plain": [
       "(96, 224, 224, 2)"
      ]
     },
     "execution_count": 6,
     "metadata": {},
     "output_type": "execute_result"
    }
   ],
   "source": [
    "segmented_train.shape"
   ]
  },
  {
   "cell_type": "code",
   "execution_count": 7,
   "metadata": {},
   "outputs": [],
   "source": [
    "for num in range(segmented_train.shape[0]):\n",
    "    for i in range(segmented_train.shape[1]):\n",
    "        for j in range(segmented_train.shape[2]):\n",
    "            sum_cnt += segmented_train[num][i][j]"
   ]
  },
  {
   "cell_type": "code",
   "execution_count": 8,
   "metadata": {},
   "outputs": [
    {
     "data": {
      "text/plain": [
       "array([4158846.,  658050.])"
      ]
     },
     "execution_count": 8,
     "metadata": {},
     "output_type": "execute_result"
    }
   ],
   "source": [
    "sum_cnt"
   ]
  },
  {
   "cell_type": "markdown",
   "metadata": {},
   "source": [
    "## Python - インデックスカラー画像を読み込む方法について\n",
    "http://pynote.hatenablog.com/entry/opencv-indexed-color-image"
   ]
  },
  {
   "cell_type": "code",
   "execution_count": null,
   "metadata": {},
   "outputs": [],
   "source": []
  },
  {
   "cell_type": "code",
   "execution_count": 9,
   "metadata": {},
   "outputs": [
    {
     "name": "stdout",
     "output_type": "stream",
     "text": [
      "4816896.0\n"
     ]
    }
   ],
   "source": [
    "print(np.sum(sum_cnt))"
   ]
  },
  {
   "cell_type": "code",
   "execution_count": 10,
   "metadata": {},
   "outputs": [
    {
     "name": "stdout",
     "output_type": "stream",
     "text": [
      "4816896\n"
     ]
    }
   ],
   "source": [
    "sum_pixel = segmented_train.shape[0]*segmented_train.shape[1]*segmented_train.shape[2]\n",
    "print(sum_pixel)"
   ]
  },
  {
   "cell_type": "code",
   "execution_count": 11,
   "metadata": {},
   "outputs": [
    {
     "data": {
      "text/plain": [
       "<BarContainer object of 2 artists>"
      ]
     },
     "execution_count": 11,
     "metadata": {},
     "output_type": "execute_result"
    },
    {
     "data": {
      "image/png": "[encoded data removed]",
      "text/plain": [
       "<Figure size 432x288 with 1 Axes>"
      ]
     },
     "metadata": {
      "needs_background": "light"
     },
     "output_type": "display_data"
    }
   ],
   "source": [
    "frequency = []\n",
    "for i in range(len(class_names)):\n",
    "    frequency.append(sum_cnt[i]/np.sum(sum_cnt))\n",
    "plt.bar(range(0,len(class_names)),frequency)\n"
   ]
  },
  {
   "cell_type": "code",
   "execution_count": 12,
   "metadata": {},
   "outputs": [
    {
     "name": "stdout",
     "output_type": "stream",
     "text": [
      "[0.57911449 3.65997721]\n"
     ]
    }
   ],
   "source": [
    "classWeights = np.mean(frequency)/frequency\n",
    "print(classWeights)"
   ]
  },
  {
   "cell_type": "code",
   "execution_count": 13,
   "metadata": {},
   "outputs": [
    {
     "name": "stdout",
     "output_type": "stream",
     "text": [
      "class background  : #sum_cnt=   4158846, #classWeights=  0.57911449\n",
      "class RebarC      : #sum_cnt=    658050, #classWeights=  3.65997721\n"
     ]
    }
   ],
   "source": [
    "for i in range(len(class_names)):\n",
    "    print(\"class {:12s}: #sum_cnt={:10.0f}, #classWeights={:12.8f}\".format(class_names[i],sum_cnt[i],classWeights[i]))"
   ]
  },
  {
   "cell_type": "code",
   "execution_count": 14,
   "metadata": {
    "scrolled": true
   },
   "outputs": [
    {
     "data": {
      "text/plain": [
       "<matplotlib.image.AxesImage at 0x201335fada0>"
      ]
     },
     "execution_count": 14,
     "metadata": {},
     "output_type": "execute_result"
    },
    {
     "data": {
      "image/png": "[encoded data removed]",
      "text/plain": [
       "<Figure size 432x288 with 1 Axes>"
      ]
     },
     "metadata": {
      "needs_background": "light"
     },
     "output_type": "display_data"
    }
   ],
   "source": [
    "plt.imshow(original_train[21])"
   ]
  },
  {
   "cell_type": "code",
   "execution_count": 15,
   "metadata": {},
   "outputs": [
    {
     "name": "stdout",
     "output_type": "stream",
     "text": [
      "[0 1]\n"
     ]
    }
   ],
   "source": [
    "print(segmented_train[21][125][110])"
   ]
  },
  {
   "cell_type": "code",
   "execution_count": 16,
   "metadata": {},
   "outputs": [
    {
     "name": "stdout",
     "output_type": "stream",
     "text": [
      "RGB\n",
      "[(744310, (0, 128, 0)), (484490, (0, 0, 0))]\n"
     ]
    }
   ],
   "source": [
    "img=Image.open(os.path.join(train_seg,\"Efc30.png\"))\n",
    "print(img.mode)\n",
    "print(img.getcolors(img.size[0]*img.size[1]))"
   ]
  },
  {
   "cell_type": "code",
   "execution_count": 16,
   "metadata": {},
   "outputs": [
    {
     "name": "stdout",
     "output_type": "stream",
     "text": [
      "python 3.6.6 |Anaconda, Inc.| (default, Jun 28 2018, 11:27:44) [MSC v.1900 64 bit (AMD64)]\n",
      "keras version 2.2.4\n",
      "tensorflow version 1.12.0\n"
     ]
    },
    {
     "name": "stderr",
     "output_type": "stream",
     "text": [
      "Using TensorFlow backend.\n"
     ]
    }
   ],
   "source": [
    "##################################################################################################\n",
    "# KerasとTensorflowをインポートして深層学習のFCNモデルを開発する\n",
    "##################################################################################################\n",
    "## Import usual libraries\n",
    "import tensorflow as tf\n",
    "from keras.backend.tensorflow_backend import set_session\n",
    "import keras, sys, time, warnings\n",
    "from keras.models import *\n",
    "from keras.layers import *\n",
    "#import pandas as pd\n",
    "warnings.filterwarnings(\"ignore\")\n",
    "\"\"\"\n",
    "os.environ[\"CUDA_DEVICE_ORDER\"] = \"PCI_BUS_ID\"\n",
    "config = tf.ConfigProto()\n",
    "config.gpu_options.per_process_gpu_memory_fraction = 0.95\n",
    "#config.gpu_options.visible_device_list = \"2\"\n",
    "set_session = tf.Session(config=config)\n",
    "\"\"\"\n",
    "\n",
    "config = tf.ConfigProto()\n",
    "#config.gpu_options.per_process_gpu_memory_fraction = 0.95\n",
    "set_session(tf.Session(config=config))\n",
    "\n",
    "print(\"python {}\".format(sys.version))\n",
    "print(\"keras version {}\".format(keras.__version__)); del keras\n",
    "print(\"tensorflow version {}\".format(tf.__version__))\n",
    "\n"
   ]
  },
  {
   "cell_type": "code",
   "execution_count": 17,
   "metadata": {},
   "outputs": [
    {
     "name": "stdout",
     "output_type": "stream",
     "text": [
      "__________________________________________________________________________________________________\n",
      "Layer (type)                    Output Shape         Param #     Connected to                     \n",
      "==================================================================================================\n",
      "input_1 (InputLayer)            (None, 224, 224, 3)  0                                            \n",
      "__________________________________________________________________________________________________\n",
      "conv2d_1 (Conv2D)               (None, 224, 224, 32) 896         input_1[0][0]                    \n",
      "__________________________________________________________________________________________________\n",
      "batch_normalization_1 (BatchNor (None, 224, 224, 32) 128         conv2d_1[0][0]                   \n",
      "__________________________________________________________________________________________________\n",
      "activation_1 (Activation)       (None, 224, 224, 32) 0           batch_normalization_1[0][0]      \n",
      "__________________________________________________________________________________________________\n",
      "conv2d_2 (Conv2D)               (None, 224, 224, 32) 9248        activation_1[0][0]               \n",
      "__________________________________________________________________________________________________\n",
      "batch_normalization_2 (BatchNor (None, 224, 224, 32) 128         conv2d_2[0][0]                   \n",
      "__________________________________________________________________________________________________\n",
      "activation_2 (Activation)       (None, 224, 224, 32) 0           batch_normalization_2[0][0]      \n",
      "__________________________________________________________________________________________________\n",
      "max_pooling2d_1 (MaxPooling2D)  (None, 112, 112, 32) 0           activation_2[0][0]               \n",
      "__________________________________________________________________________________________________\n",
      "dropout_1 (Dropout)             (None, 112, 112, 32) 0           max_pooling2d_1[0][0]            \n",
      "__________________________________________________________________________________________________\n",
      "conv2d_3 (Conv2D)               (None, 112, 112, 64) 18496       dropout_1[0][0]                  \n",
      "__________________________________________________________________________________________________\n",
      "batch_normalization_3 (BatchNor (None, 112, 112, 64) 256         conv2d_3[0][0]                   \n",
      "__________________________________________________________________________________________________\n",
      "activation_3 (Activation)       (None, 112, 112, 64) 0           batch_normalization_3[0][0]      \n",
      "__________________________________________________________________________________________________\n",
      "conv2d_4 (Conv2D)               (None, 112, 112, 64) 36928       activation_3[0][0]               \n",
      "__________________________________________________________________________________________________\n",
      "batch_normalization_4 (BatchNor (None, 112, 112, 64) 256         conv2d_4[0][0]                   \n",
      "__________________________________________________________________________________________________\n",
      "activation_4 (Activation)       (None, 112, 112, 64) 0           batch_normalization_4[0][0]      \n",
      "__________________________________________________________________________________________________\n",
      "max_pooling2d_2 (MaxPooling2D)  (None, 56, 56, 64)   0           activation_4[0][0]               \n",
      "__________________________________________________________________________________________________\n",
      "dropout_2 (Dropout)             (None, 56, 56, 64)   0           max_pooling2d_2[0][0]            \n",
      "__________________________________________________________________________________________________\n",
      "conv2d_5 (Conv2D)               (None, 56, 56, 128)  73856       dropout_2[0][0]                  \n",
      "__________________________________________________________________________________________________\n",
      "batch_normalization_5 (BatchNor (None, 56, 56, 128)  512         conv2d_5[0][0]                   \n",
      "__________________________________________________________________________________________________\n",
      "activation_5 (Activation)       (None, 56, 56, 128)  0           batch_normalization_5[0][0]      \n",
      "__________________________________________________________________________________________________\n",
      "conv2d_6 (Conv2D)               (None, 56, 56, 128)  147584      activation_5[0][0]               \n",
      "__________________________________________________________________________________________________\n",
      "batch_normalization_6 (BatchNor (None, 56, 56, 128)  512         conv2d_6[0][0]                   \n",
      "__________________________________________________________________________________________________\n",
      "activation_6 (Activation)       (None, 56, 56, 128)  0           batch_normalization_6[0][0]      \n",
      "__________________________________________________________________________________________________\n",
      "max_pooling2d_3 (MaxPooling2D)  (None, 28, 28, 128)  0           activation_6[0][0]               \n",
      "__________________________________________________________________________________________________\n",
      "dropout_3 (Dropout)             (None, 28, 28, 128)  0           max_pooling2d_3[0][0]            \n",
      "__________________________________________________________________________________________________\n",
      "conv2d_7 (Conv2D)               (None, 28, 28, 256)  295168      dropout_3[0][0]                  \n",
      "__________________________________________________________________________________________________\n",
      "batch_normalization_7 (BatchNor (None, 28, 28, 256)  1024        conv2d_7[0][0]                   \n",
      "__________________________________________________________________________________________________\n",
      "activation_7 (Activation)       (None, 28, 28, 256)  0           batch_normalization_7[0][0]      \n",
      "__________________________________________________________________________________________________\n",
      "conv2d_8 (Conv2D)               (None, 28, 28, 256)  590080      activation_7[0][0]               \n",
      "__________________________________________________________________________________________________\n",
      "batch_normalization_8 (BatchNor (None, 28, 28, 256)  1024        conv2d_8[0][0]                   \n",
      "__________________________________________________________________________________________________\n",
      "activation_8 (Activation)       (None, 28, 28, 256)  0           batch_normalization_8[0][0]      \n",
      "__________________________________________________________________________________________________\n",
      "max_pooling2d_4 (MaxPooling2D)  (None, 14, 14, 256)  0           activation_8[0][0]               \n",
      "__________________________________________________________________________________________________\n",
      "dropout_4 (Dropout)             (None, 14, 14, 256)  0           max_pooling2d_4[0][0]            \n",
      "__________________________________________________________________________________________________\n",
      "conv2d_9 (Conv2D)               (None, 14, 14, 512)  1180160     dropout_4[0][0]                  \n",
      "__________________________________________________________________________________________________\n",
      "batch_normalization_9 (BatchNor (None, 14, 14, 512)  2048        conv2d_9[0][0]                   \n",
      "__________________________________________________________________________________________________\n",
      "activation_9 (Activation)       (None, 14, 14, 512)  0           batch_normalization_9[0][0]      \n",
      "__________________________________________________________________________________________________\n",
      "conv2d_10 (Conv2D)              (None, 14, 14, 512)  2359808     activation_9[0][0]               \n",
      "__________________________________________________________________________________________________\n",
      "batch_normalization_10 (BatchNo (None, 14, 14, 512)  2048        conv2d_10[0][0]                  \n",
      "__________________________________________________________________________________________________\n",
      "activation_10 (Activation)      (None, 14, 14, 512)  0           batch_normalization_10[0][0]     \n",
      "__________________________________________________________________________________________________\n",
      "conv2d_transpose_1 (Conv2DTrans (None, 28, 28, 256)  1179904     activation_10[0][0]              \n",
      "__________________________________________________________________________________________________\n",
      "concatenate_1 (Concatenate)     (None, 28, 28, 512)  0           conv2d_transpose_1[0][0]         \n",
      "                                                                 activation_8[0][0]               \n",
      "__________________________________________________________________________________________________\n",
      "dropout_5 (Dropout)             (None, 28, 28, 512)  0           concatenate_1[0][0]              \n",
      "__________________________________________________________________________________________________\n",
      "conv2d_11 (Conv2D)              (None, 28, 28, 256)  1179904     dropout_5[0][0]                  \n",
      "__________________________________________________________________________________________________\n",
      "batch_normalization_11 (BatchNo (None, 28, 28, 256)  1024        conv2d_11[0][0]                  \n",
      "__________________________________________________________________________________________________\n",
      "activation_11 (Activation)      (None, 28, 28, 256)  0           batch_normalization_11[0][0]     \n",
      "__________________________________________________________________________________________________\n",
      "conv2d_12 (Conv2D)              (None, 28, 28, 256)  590080      activation_11[0][0]              \n",
      "__________________________________________________________________________________________________\n",
      "batch_normalization_12 (BatchNo (None, 28, 28, 256)  1024        conv2d_12[0][0]                  \n",
      "__________________________________________________________________________________________________\n",
      "activation_12 (Activation)      (None, 28, 28, 256)  0           batch_normalization_12[0][0]     \n",
      "__________________________________________________________________________________________________\n",
      "conv2d_transpose_2 (Conv2DTrans (None, 56, 56, 128)  295040      activation_12[0][0]              \n",
      "__________________________________________________________________________________________________\n",
      "concatenate_2 (Concatenate)     (None, 56, 56, 256)  0           conv2d_transpose_2[0][0]         \n",
      "                                                                 activation_6[0][0]               \n",
      "__________________________________________________________________________________________________\n",
      "dropout_6 (Dropout)             (None, 56, 56, 256)  0           concatenate_2[0][0]              \n",
      "__________________________________________________________________________________________________\n",
      "conv2d_13 (Conv2D)              (None, 56, 56, 128)  295040      dropout_6[0][0]                  \n",
      "__________________________________________________________________________________________________\n",
      "batch_normalization_13 (BatchNo (None, 56, 56, 128)  512         conv2d_13[0][0]                  \n",
      "__________________________________________________________________________________________________\n",
      "activation_13 (Activation)      (None, 56, 56, 128)  0           batch_normalization_13[0][0]     \n",
      "__________________________________________________________________________________________________\n",
      "conv2d_14 (Conv2D)              (None, 56, 56, 128)  147584      activation_13[0][0]              \n",
      "__________________________________________________________________________________________________\n",
      "batch_normalization_14 (BatchNo (None, 56, 56, 128)  512         conv2d_14[0][0]                  \n",
      "__________________________________________________________________________________________________\n",
      "activation_14 (Activation)      (None, 56, 56, 128)  0           batch_normalization_14[0][0]     \n",
      "__________________________________________________________________________________________________\n",
      "conv2d_transpose_3 (Conv2DTrans (None, 112, 112, 64) 73792       activation_14[0][0]              \n",
      "__________________________________________________________________________________________________\n",
      "concatenate_3 (Concatenate)     (None, 112, 112, 128 0           conv2d_transpose_3[0][0]         \n",
      "                                                                 activation_4[0][0]               \n",
      "__________________________________________________________________________________________________\n",
      "dropout_7 (Dropout)             (None, 112, 112, 128 0           concatenate_3[0][0]              \n",
      "__________________________________________________________________________________________________\n",
      "conv2d_15 (Conv2D)              (None, 112, 112, 64) 73792       dropout_7[0][0]                  \n",
      "__________________________________________________________________________________________________\n",
      "batch_normalization_15 (BatchNo (None, 112, 112, 64) 256         conv2d_15[0][0]                  \n",
      "__________________________________________________________________________________________________\n",
      "activation_15 (Activation)      (None, 112, 112, 64) 0           batch_normalization_15[0][0]     \n",
      "__________________________________________________________________________________________________\n",
      "conv2d_16 (Conv2D)              (None, 112, 112, 64) 36928       activation_15[0][0]              \n",
      "__________________________________________________________________________________________________\n",
      "batch_normalization_16 (BatchNo (None, 112, 112, 64) 256         conv2d_16[0][0]                  \n",
      "__________________________________________________________________________________________________\n",
      "activation_16 (Activation)      (None, 112, 112, 64) 0           batch_normalization_16[0][0]     \n",
      "__________________________________________________________________________________________________\n",
      "conv2d_transpose_4 (Conv2DTrans (None, 224, 224, 32) 18464       activation_16[0][0]              \n",
      "__________________________________________________________________________________________________\n",
      "concatenate_4 (Concatenate)     (None, 224, 224, 64) 0           conv2d_transpose_4[0][0]         \n",
      "                                                                 activation_2[0][0]               \n",
      "__________________________________________________________________________________________________\n",
      "dropout_8 (Dropout)             (None, 224, 224, 64) 0           concatenate_4[0][0]              \n",
      "__________________________________________________________________________________________________\n",
      "conv2d_17 (Conv2D)              (None, 224, 224, 32) 18464       dropout_8[0][0]                  \n",
      "__________________________________________________________________________________________________\n",
      "batch_normalization_17 (BatchNo (None, 224, 224, 32) 128         conv2d_17[0][0]                  \n",
      "__________________________________________________________________________________________________\n",
      "activation_17 (Activation)      (None, 224, 224, 32) 0           batch_normalization_17[0][0]     \n",
      "__________________________________________________________________________________________________\n",
      "conv2d_18 (Conv2D)              (None, 224, 224, 32) 9248        activation_17[0][0]              \n",
      "__________________________________________________________________________________________________\n",
      "batch_normalization_18 (BatchNo (None, 224, 224, 32) 128         conv2d_18[0][0]                  \n",
      "__________________________________________________________________________________________________\n",
      "activation_18 (Activation)      (None, 224, 224, 32) 0           batch_normalization_18[0][0]     \n",
      "__________________________________________________________________________________________________\n",
      "conv2d_19 (Conv2D)              (None, 224, 224, 2)  66          activation_18[0][0]              \n",
      "==================================================================================================\n",
      "Total params: 8,642,306\n",
      "Trainable params: 8,636,418\n",
      "Non-trainable params: 5,888\n",
      "__________________________________________________________________________________________________\n"
     ]
    }
   ],
   "source": [
    "class UNet():\n",
    "    def __init__(self,input_height,input_width,nClasses):\n",
    "        self.input_height=input_height\n",
    "        self.input_width=input_width\n",
    "        self.nClasses=nClasses\n",
    "\n",
    "\n",
    "    def create_model(self):\n",
    "        n_filters=32    # originalは64\n",
    "        kernel_size=3\n",
    "        dropout=0.5\n",
    "        batchnorm=True\n",
    "\n",
    "        # contracting path\n",
    "        img_input = Input(shape=(self.input_height,self.input_width, 3)) ## Assume 224,224,3\n",
    "        enc1 = Conv2D(n_filters,kernel_size,padding='same')(img_input)\n",
    "        if batchnorm:\n",
    "            enc1 = BatchNormalization()(enc1)\n",
    "        enc1 = Activation(\"relu\")(enc1)\n",
    "        enc1 = Conv2D(n_filters,kernel_size,padding='same')(enc1)\n",
    "        if batchnorm:\n",
    "            enc1 = BatchNormalization()(enc1)\n",
    "        enc1 = Activation(\"relu\")(enc1)\n",
    "        pool1 = MaxPooling2D(pool_size=(2,2))(enc1)\n",
    "        pool1 = Dropout(dropout*0.5)(pool1)\n",
    "\n",
    "        enc2 = Conv2D(n_filters*2,kernel_size,padding='same')(pool1)\n",
    "        if batchnorm:\n",
    "            enc2 = BatchNormalization()(enc2)\n",
    "        enc2 = Activation(\"relu\")(enc2)\n",
    "        enc2 = Conv2D(n_filters*2,kernel_size,padding='same')(enc2)\n",
    "        if batchnorm:\n",
    "            enc2 = BatchNormalization()(enc2)\n",
    "        enc2 = Activation(\"relu\")(enc2)\n",
    "        pool2 = MaxPooling2D(pool_size=(2,2))(enc2)\n",
    "        pool2 = Dropout(dropout)(pool2)\n",
    "\n",
    "        enc3 = Conv2D(n_filters*4,kernel_size,padding='same')(pool2)\n",
    "        if batchnorm:\n",
    "            enc3 = BatchNormalization()(enc3)\n",
    "        enc3 = Activation(\"relu\")(enc3)\n",
    "        enc3 = Conv2D(n_filters*4,kernel_size,padding='same')(enc3)\n",
    "        if batchnorm:\n",
    "            enc3 = BatchNormalization()(enc3)\n",
    "        enc3 = Activation(\"relu\")(enc3)\n",
    "        pool3 = MaxPooling2D(pool_size=(2,2))(enc3)\n",
    "        pool3 = Dropout(dropout)(pool3)\n",
    "\n",
    "        enc4 = Conv2D(n_filters*8,kernel_size,padding='same')(pool3)\n",
    "        if batchnorm:\n",
    "            enc4 = BatchNormalization()(enc4)\n",
    "        enc4 = Activation(\"relu\")(enc4)\n",
    "        enc4 = Conv2D(n_filters*8,kernel_size,padding='same')(enc4)\n",
    "        if batchnorm:\n",
    "            enc4 = BatchNormalization()(enc4)\n",
    "        enc4 = Activation(\"relu\")(enc4)\n",
    "        pool4 = MaxPooling2D(pool_size=(2,2))(enc4)\n",
    "        pool4 = Dropout(dropout)(pool4)\n",
    "\n",
    "        enc5 = Conv2D(n_filters*16,kernel_size,padding='same')(pool4)\n",
    "        if batchnorm:\n",
    "            enc5 = BatchNormalization()(enc5)\n",
    "        enc5 = Activation(\"relu\")(enc5)\n",
    "        enc5 = Conv2D(n_filters*16,kernel_size,padding='same')(enc5)\n",
    "        if batchnorm:\n",
    "            enc5 = BatchNormalization()(enc5)\n",
    "        enc5 = Activation(\"relu\")(enc5)\n",
    "\n",
    "        # expansive path\n",
    "        dec1 = Conv2DTranspose(n_filters*8,kernel_size,strides=(2,2),padding='same')(enc5)\n",
    "        dec1 = concatenate([dec1,enc4],axis=3)\n",
    "        dec1 = Dropout(dropout)(dec1)\n",
    "        dec1 = Conv2D(n_filters*8,kernel_size,padding='same')(dec1)\n",
    "        if batchnorm:\n",
    "            dec1 = BatchNormalization()(dec1)\n",
    "        dec1 = Activation(\"relu\")(dec1)\n",
    "        dec1 = Conv2D(n_filters*8,kernel_size,padding='same')(dec1)\n",
    "        if batchnorm:\n",
    "            dec1 = BatchNormalization()(dec1)\n",
    "        dec1 = Activation(\"relu\")(dec1)\n",
    "\n",
    "        dec2 = Conv2DTranspose(n_filters*4,kernel_size,strides=(2,2),padding='same')(dec1)\n",
    "        dec2 = concatenate([dec2,enc3],axis=3)\n",
    "        dec2 = Dropout(dropout)(dec2)\n",
    "        dec2 = Conv2D(n_filters*4,kernel_size,padding='same')(dec2)\n",
    "        if batchnorm:\n",
    "            dec2 = BatchNormalization()(dec2)\n",
    "        dec2 = Activation(\"relu\")(dec2)\n",
    "        dec2 = Conv2D(n_filters*4,kernel_size,padding='same')(dec2)\n",
    "        if batchnorm:\n",
    "            dec2 = BatchNormalization()(dec2)\n",
    "        dec2 = Activation(\"relu\")(dec2)\n",
    "\n",
    "        dec3 = Conv2DTranspose(n_filters*2,kernel_size,strides=(2,2),padding='same')(dec2)\n",
    "        dec3 = concatenate([dec3,enc2],axis=3)\n",
    "        dec3 = Dropout(dropout)(dec3)\n",
    "        dec3 = Conv2D(n_filters*2,kernel_size,padding='same')(dec3)\n",
    "        if batchnorm:\n",
    "            dec3 = BatchNormalization()(dec3)\n",
    "        dec3 = Activation(\"relu\")(dec3)\n",
    "        dec3 = Conv2D(n_filters*2,kernel_size,padding='same')(dec3)\n",
    "        if batchnorm:\n",
    "            dec3 = BatchNormalization()(dec3)\n",
    "        dec3 = Activation(\"relu\")(dec3)\n",
    "\n",
    "        dec4 = Conv2DTranspose(n_filters,kernel_size,strides=(2,2),padding='same')(dec3)\n",
    "        dec4 = concatenate([dec4,enc1],axis=3)\n",
    "        dec4 = Dropout(dropout)(dec4)\n",
    "        dec4 = Conv2D(n_filters,kernel_size,padding='same')(dec4)\n",
    "        if batchnorm:\n",
    "            dec4 = BatchNormalization()(dec4)\n",
    "        dec4 = Activation(\"relu\")(dec4)\n",
    "        dec4 = Conv2D(n_filters,kernel_size,padding='same')(dec4)\n",
    "        if batchnorm:\n",
    "            dec4 = BatchNormalization()(dec4)\n",
    "        dec4 = Activation(\"relu\")(dec4)\n",
    "\n",
    "        outputs = Conv2D(self.nClasses,1,activation='sigmoid')(dec4)\n",
    "        model = Model(inputs=[img_input],output=[outputs])\n",
    "        return model\n",
    "\n",
    "unet = UNet(input_height = 224, input_width  = 224, nClasses = len(class_names))\n",
    "model = unet.create_model()\n",
    "model.summary()"
   ]
  },
  {
   "cell_type": "code",
   "execution_count": null,
   "metadata": {},
   "outputs": [],
   "source": [
    "####################################################################################################################\n",
    "# FCN8を実装\n",
    "####################################################################################################################\n",
    "from keras import backend as K\n",
    "from keras.applications.vgg16 import VGG16,preprocess_input\n",
    "\n",
    "class VGG_FCN():\n",
    "    def __init__(self,input_height, input_width,nClasses):\n",
    "        self.input_height=input_height\n",
    "        self.input_width=input_width\n",
    "        self.nClasses=nClasses\n",
    "        self.vgg16 = VGG16(include_top=True, weights='imagenet')\n",
    "\n",
    "    def create_model(self):\n",
    "        ## (samples, channels, rows, cols)\n",
    "        img_input = Input(shape=(self.input_height,self.input_width, 3)) ## Assume 224,224,3\n",
    "        #Block1\n",
    "        x = self.vgg16.layers[1](img_input)\n",
    "        x = self.vgg16.layers[2](x)\n",
    "        x = self.vgg16.layers[3](x)\n",
    "\n",
    "        #Block2\n",
    "        x = self.vgg16.layers[4](x)\n",
    "        x = self.vgg16.layers[5](x)\n",
    "        x = self.vgg16.layers[6](x)\n",
    "\n",
    "        #Block3\n",
    "        x = self.vgg16.layers[7](x)\n",
    "        x = self.vgg16.layers[8](x)\n",
    "        x = self.vgg16.layers[9](x)\n",
    "        x = self.vgg16.layers[10](x)\n",
    "\n",
    "        # split layer\n",
    "        p3 = x\n",
    "        #Block4\n",
    "        x = self.vgg16.layers[11](x)\n",
    "        x = self.vgg16.layers[12](x)\n",
    "        x = self.vgg16.layers[13](x)\n",
    "        x = self.vgg16.layers[14](x)\n",
    "\n",
    "        # split layer\n",
    "        p4 = x\n",
    "        #Block5\n",
    "        x = self.vgg16.layers[15](x)\n",
    "        x = self.vgg16.layers[16](x)\n",
    "        x = self.vgg16.layers[17](x)\n",
    "        x = self.vgg16.layers[18](x)\n",
    "\n",
    "        p5 = x\n",
    "\n",
    "        n = 4096\n",
    "        o = ( Conv2D( n , ( 7 , 7 ) , activation='relu' , padding='same', name=\"conv6\"))(p5)\n",
    "        conv7 = ( Conv2D( n , ( 1 , 1 ) , activation='relu' , padding='same', name=\"conv7\"))(o)\n",
    "\n",
    "\n",
    "        ## 4 times upsamping for pool4 layer\n",
    "        conv7_4 = Conv2DTranspose( self.nClasses , kernel_size=(4,4) ,  strides=(4,4) , use_bias=False)(conv7)\n",
    "        ## (None, 224, 224, 10)\n",
    "        ## 2 times upsampling for pool411\n",
    "        pool411 = ( Conv2D( self.nClasses , ( 1 , 1 ) , activation='relu' , padding='same', name=\"pool4_11\"))(p4)\n",
    "        pool411_2 = (Conv2DTranspose( self.nClasses , kernel_size=(2,2) ,  strides=(2,2) , use_bias=False))(pool411)\n",
    "\n",
    "        pool311 = ( Conv2D( self.nClasses , ( 1 , 1 ) , activation='relu' , padding='same', name=\"pool3_11\"))(p3)\n",
    "\n",
    "        o = Add(name=\"add\")([pool411_2, pool311, conv7_4])\n",
    "        o = Conv2DTranspose( self.nClasses , kernel_size=(8,8) ,  strides=(8,8) , use_bias=False)(o)\n",
    "        o = (Activation('softmax'))(o)\n",
    "        model = Model(img_input, o)\n",
    "\n",
    "        return model\n",
    "\n",
    "FCN = VGG_FCN(input_height = 224, input_width  = 224, nClasses = len(class_names))\n",
    "model = FCN.create_model()\n",
    "model.summary()\n"
   ]
  },
  {
   "cell_type": "code",
   "execution_count": null,
   "metadata": {},
   "outputs": [],
   "source": []
  },
  {
   "cell_type": "code",
   "execution_count": 18,
   "metadata": {},
   "outputs": [
    {
     "name": "stdout",
     "output_type": "stream",
     "text": [
      "クラス重み付けを行います\n",
      "Train on 96 samples, validate on 24 samples\n",
      "Epoch 1/50\n",
      "96/96 [==============================] - 151s 2s/step - loss: 0.5645 - acc: 0.7302 - val_loss: 0.5348 - val_acc: 0.7672\n",
      "Epoch 2/50\n",
      "96/96 [==============================] - 145s 2s/step - loss: 0.4166 - acc: 0.8203 - val_loss: 0.5904 - val_acc: 0.5652\n",
      "Epoch 3/50\n",
      "96/96 [==============================] - 144s 1s/step - loss: 0.3666 - acc: 0.8463 - val_loss: 0.5020 - val_acc: 0.6679\n",
      "Epoch 4/50\n",
      "96/96 [==============================] - 146s 2s/step - loss: 0.3179 - acc: 0.8562 - val_loss: 0.5484 - val_acc: 0.4606\n",
      "Epoch 5/50\n",
      "96/96 [==============================] - 143s 1s/step - loss: 0.2989 - acc: 0.8747 - val_loss: 0.6319 - val_acc: 0.4300\n",
      "Epoch 6/50\n",
      "96/96 [==============================] - 145s 2s/step - loss: 0.2834 - acc: 0.8795 - val_loss: 0.6853 - val_acc: 0.3693\n",
      "Epoch 7/50\n",
      "96/96 [==============================] - 142s 1s/step - loss: 0.2640 - acc: 0.8953 - val_loss: 6.5367 - val_acc: 0.3018\n",
      "Epoch 8/50\n",
      "96/96 [==============================] - 142s 1s/step - loss: 0.2489 - acc: 0.9065 - val_loss: 5.4676 - val_acc: 0.4292\n",
      "Epoch 9/50\n",
      "96/96 [==============================] - 140s 1s/step - loss: 0.2329 - acc: 0.9184 - val_loss: 3.4054 - val_acc: 0.5854\n",
      "Epoch 10/50\n",
      "96/96 [==============================] - 141s 1s/step - loss: 0.2130 - acc: 0.9312 - val_loss: 2.7923 - val_acc: 0.5976\n",
      "Epoch 11/50\n",
      "96/96 [==============================] - 142s 1s/step - loss: 0.2136 - acc: 0.9271 - val_loss: 6.1064 - val_acc: 0.5123\n",
      "Epoch 12/50\n",
      "96/96 [==============================] - 140s 1s/step - loss: 0.2012 - acc: 0.9353 - val_loss: 3.0964 - val_acc: 0.5994\n",
      "Epoch 13/50\n",
      "96/96 [==============================] - 141s 1s/step - loss: 0.1938 - acc: 0.9366 - val_loss: 1.4407 - val_acc: 0.7047\n",
      "Epoch 14/50\n",
      "96/96 [==============================] - 142s 1s/step - loss: 0.1879 - acc: 0.9368 - val_loss: 3.6192 - val_acc: 0.6661\n",
      "Epoch 15/50\n",
      "96/96 [==============================] - 144s 1s/step - loss: 0.1775 - acc: 0.9402 - val_loss: 3.9276 - val_acc: 0.6751\n",
      "Epoch 16/50\n",
      "96/96 [==============================] - 143s 1s/step - loss: 0.1661 - acc: 0.9444 - val_loss: 4.4996 - val_acc: 0.6363\n",
      "Epoch 17/50\n",
      "96/96 [==============================] - 144s 2s/step - loss: 0.1546 - acc: 0.9521 - val_loss: 1.8199 - val_acc: 0.7879\n",
      "Epoch 18/50\n",
      "96/96 [==============================] - 144s 1s/step - loss: 0.1570 - acc: 0.9496 - val_loss: 3.4554 - val_acc: 0.6705\n",
      "Epoch 19/50\n",
      "96/96 [==============================] - 141s 1s/step - loss: 0.1520 - acc: 0.9483 - val_loss: 1.0042 - val_acc: 0.8488\n",
      "Epoch 20/50\n",
      "96/96 [==============================] - 151s 2s/step - loss: 0.1435 - acc: 0.9518 - val_loss: 4.5155 - val_acc: 0.5568\n",
      "Epoch 21/50\n",
      "96/96 [==============================] - 148s 2s/step - loss: 0.1474 - acc: 0.9473 - val_loss: 6.2445 - val_acc: 0.4279\n",
      "Epoch 22/50\n",
      "96/96 [==============================] - 147s 2s/step - loss: 0.1439 - acc: 0.9527 - val_loss: 1.7429 - val_acc: 0.7304\n",
      "Epoch 23/50\n",
      "96/96 [==============================] - 146s 2s/step - loss: 0.1441 - acc: 0.9504 - val_loss: 2.2163 - val_acc: 0.7392\n",
      "Epoch 24/50\n",
      "96/96 [==============================] - 173s 2s/step - loss: 0.1460 - acc: 0.9464 - val_loss: 0.6374 - val_acc: 0.8692\n",
      "Epoch 25/50\n",
      "96/96 [==============================] - 179s 2s/step - loss: 0.1263 - acc: 0.9559 - val_loss: 0.9145 - val_acc: 0.8598\n",
      "Epoch 26/50\n",
      "96/96 [==============================] - 160s 2s/step - loss: 0.1234 - acc: 0.9565 - val_loss: 1.1132 - val_acc: 0.8531\n",
      "Epoch 27/50\n",
      "96/96 [==============================] - 163s 2s/step - loss: 0.1252 - acc: 0.9542 - val_loss: 0.4759 - val_acc: 0.9038\n",
      "Epoch 28/50\n",
      "96/96 [==============================] - 153s 2s/step - loss: 0.1137 - acc: 0.9613 - val_loss: 1.1777 - val_acc: 0.8478\n",
      "Epoch 29/50\n",
      "96/96 [==============================] - 154s 2s/step - loss: 0.1117 - acc: 0.9612 - val_loss: 0.6432 - val_acc: 0.8720\n",
      "Epoch 30/50\n",
      "96/96 [==============================] - 152s 2s/step - loss: 0.1178 - acc: 0.9576 - val_loss: 2.6861 - val_acc: 0.7349\n",
      "Epoch 31/50\n",
      "96/96 [==============================] - 155s 2s/step - loss: 0.1091 - acc: 0.9619 - val_loss: 0.8507 - val_acc: 0.8711\n",
      "Epoch 32/50\n",
      "96/96 [==============================] - 157s 2s/step - loss: 0.0995 - acc: 0.9651 - val_loss: 0.8663 - val_acc: 0.8686\n",
      "Epoch 33/50\n",
      "96/96 [==============================] - 150s 2s/step - loss: 0.0966 - acc: 0.9671 - val_loss: 0.6508 - val_acc: 0.8952\n",
      "Epoch 34/50\n",
      "96/96 [==============================] - 156s 2s/step - loss: 0.1068 - acc: 0.9598 - val_loss: 0.5226 - val_acc: 0.9001\n",
      "Epoch 35/50\n",
      "96/96 [==============================] - 147s 2s/step - loss: 0.0990 - acc: 0.9643 - val_loss: 0.4070 - val_acc: 0.8968\n",
      "Epoch 36/50\n",
      "96/96 [==============================] - 151s 2s/step - loss: 0.0982 - acc: 0.9654 - val_loss: 0.2320 - val_acc: 0.9363\n",
      "Epoch 37/50\n",
      "96/96 [==============================] - 139s 1s/step - loss: 0.0914 - acc: 0.9684 - val_loss: 0.4528 - val_acc: 0.9058\n",
      "Epoch 38/50\n",
      "96/96 [==============================] - 140s 1s/step - loss: 0.1037 - acc: 0.9624 - val_loss: 0.2872 - val_acc: 0.9286\n",
      "Epoch 39/50\n",
      "96/96 [==============================] - 135s 1s/step - loss: 0.0898 - acc: 0.9675 - val_loss: 0.5895 - val_acc: 0.8938\n",
      "Epoch 40/50\n",
      "96/96 [==============================] - 140s 1s/step - loss: 0.0982 - acc: 0.9637 - val_loss: 0.4075 - val_acc: 0.9131\n",
      "Epoch 41/50\n",
      "96/96 [==============================] - 149s 2s/step - loss: 0.0860 - acc: 0.9683 - val_loss: 0.1617 - val_acc: 0.9507\n",
      "Epoch 42/50\n",
      "96/96 [==============================] - 146s 2s/step - loss: 0.0848 - acc: 0.9692 - val_loss: 0.1965 - val_acc: 0.9450\n",
      "Epoch 43/50\n",
      "96/96 [==============================] - 144s 2s/step - loss: 0.0810 - acc: 0.9713 - val_loss: 0.1701 - val_acc: 0.9468\n",
      "Epoch 44/50\n",
      "96/96 [==============================] - 146s 2s/step - loss: 0.0842 - acc: 0.9682 - val_loss: 0.8216 - val_acc: 0.8471\n",
      "Epoch 45/50\n",
      "96/96 [==============================] - 148s 2s/step - loss: 0.0824 - acc: 0.9690 - val_loss: 0.2579 - val_acc: 0.9385\n",
      "Epoch 46/50\n",
      "96/96 [==============================] - 148s 2s/step - loss: 0.0824 - acc: 0.9701 - val_loss: 0.5357 - val_acc: 0.8959\n",
      "Epoch 47/50\n",
      "96/96 [==============================] - 148s 2s/step - loss: 0.0705 - acc: 0.9739 - val_loss: 0.2931 - val_acc: 0.9337\n",
      "Epoch 48/50\n",
      "96/96 [==============================] - 147s 2s/step - loss: 0.0787 - acc: 0.9716 - val_loss: 0.2562 - val_acc: 0.9353\n",
      "Epoch 49/50\n",
      "96/96 [==============================] - 148s 2s/step - loss: 0.0783 - acc: 0.9705 - val_loss: 0.2067 - val_acc: 0.9365\n",
      "Epoch 50/50\n",
      "96/96 [==============================] - 148s 2s/step - loss: 0.0720 - acc: 0.9737 - val_loss: 0.2763 - val_acc: 0.9341\n",
      "Training finish!\n"
     ]
    }
   ],
   "source": [
    "#############################################################################################################################################\n",
    "# トレーニング開始\n",
    "#############################################################################################################################################\n",
    "from keras import optimizers\n",
    "from keras.callbacks import EarlyStopping, ModelCheckpoint,ReduceLROnPlateau,CSVLogger   # 追加\n",
    "\n",
    "#adam = optimizers.SGD(lr=1E-2, decay=5**(-4), momentum=0.9, nesterov=True)\n",
    "adam = optimizers.Adam()\n",
    "#sgd = optimizers.SGD(lr=1e-3, decay=1e-6, momentum=0.9, nesterov=True)\n",
    "model.compile(loss='categorical_crossentropy',\n",
    "              optimizer=adam,\n",
    "              metrics=['accuracy'])\n",
    "\n",
    "#model.compile(loss=dice_loss,optimizer=sgd,metrics=[dice_coef])\n",
    "# 学習が進まなくなった際に学習率を減らす\n",
    "#reduce_lr = ReduceLROnPlateau(monitor='val_loss', factor=0.2, patience = 4, min_lr=1e-5, verbose = 1)\n",
    "\n",
    "# 過学習の抑制 (val_lossが patience epoch 減らない場合、学習の停止)\n",
    "#early_stopping = EarlyStopping(monitor = 'val_loss', patience = 12 , verbose = 1) \n",
    "# モデルの保存先を指定\n",
    "model_path = os.path.join(save_dir, 'UNet_adam_Weight_model.h5') \n",
    "# 評価に用いるモデルの保存\n",
    "checkpointer = ModelCheckpoint(model_path, monitor = 'val_loss', verbose = 0, save_best_only = True)\n",
    "# 各エポックの結果をcsvファイルに保存するコールバック関数\n",
    "csv_logger = CSVLogger(os.path.join(save_dir,'training_Weight.log'))\n",
    "#es_cb = EarlyStopping(monitor='val_loss', patience=5,verbose=1,mode='auto')  # 追加\n",
    "#chkpt = os.path.join(dir_data,'FCN_.{epoch:03d}-{val_loss:.2f}.hdf5')       # 追加\n",
    "#cp_cb = ModelCheckpoint(filepath=chkpt, monitor='val_loss', verbose=1, save_best_only=True,mode='auto') # 追加\n",
    "\n",
    "# クラス重み付けをするかどうか\n",
    "class_weight = True\n",
    "\n",
    "if class_weight:\n",
    "    print(\"クラス重み付けを行います\")\n",
    "    class_weights = classWeights\n",
    "else:\n",
    "    print(\"クラス重み付けを行いません\")\n",
    "    class_weights = None\n",
    "\n",
    "# BATCH_SIZE, EPOCHはプログラムの先頭で宣言\n",
    "hist1 = model.fit(original_train, segmented_train,\n",
    "                  validation_data=(original_val,segmented_val),\n",
    "                  batch_size=BATCH_SIZE,\n",
    "                  epochs=50,\n",
    "                  verbose=1,\n",
    "                  shuffle=True,\n",
    "                  callbacks=[checkpointer,csv_logger],\n",
    "                  class_weight=class_weights\n",
    "                  )\n",
    "                #callbacks=[es_cb,cp_cb]\n",
    "    \n",
    "print(\"Training finish!\")\n",
    "\n",
    "model.save_weights(model_path)"
   ]
  },
  {
   "cell_type": "code",
   "execution_count": 19,
   "metadata": {},
   "outputs": [
    {
     "data": {
      "image/png": "[encoded data removed]",
      "text/plain": [
       "<Figure size 432x288 with 1 Axes>"
      ]
     },
     "metadata": {
      "needs_background": "light"
     },
     "output_type": "display_data"
    },
    {
     "data": {
      "image/png": "[encoded data removed]",
      "text/plain": [
       "<Figure size 432x288 with 1 Axes>"
      ]
     },
     "metadata": {
      "needs_background": "light"
     },
     "output_type": "display_data"
    }
   ],
   "source": [
    "######################################################################################################################################\n",
    "# 1epochごとに正解率と損失の変化をプロットする\n",
    "#######################################################################################################################################\n",
    "for key in ['acc', 'val_acc']:\n",
    "    plt.plot(hist1.history[key],label=key)\n",
    "plt.title('model accuracy')\n",
    "plt.ylabel('accuracy')\n",
    "plt.xlabel('epoch')\n",
    "plt.legend()\n",
    "plt.savefig(os.path.join(result_dir, 'acc.png'))\n",
    "plt.show()\n",
    "\n",
    "for key in ['loss', 'val_loss']:\n",
    "    plt.plot(hist1.history[key],label=key)\n",
    "plt.title('model loss')\n",
    "plt.ylabel('loss')\n",
    "plt.xlabel('epoch')\n",
    "plt.legend()\n",
    "plt.savefig(os.path.join(result_dir, 'loss.png'))\n",
    "plt.show()\n",
    "\n"
   ]
  },
  {
   "cell_type": "code",
   "execution_count": 20,
   "metadata": {},
   "outputs": [],
   "source": [
    "class evaluate:\n",
    "    def IoU(Yi,y_predi,folder):\n",
    "    ## mean Intersection over Union\n",
    "    ## Mean IoU = TP/(FN + TP + FP)\n",
    "\n",
    "        with open(os.path.join(folder,'Iou.txt'),'w') as f:\n",
    "            IoUs = []\n",
    "            Nclass = int(np.max(Yi)) + 1\n",
    "            for c in range(Nclass):\n",
    "                TP = np.sum( (Yi == c)&(y_predi==c) )\n",
    "                FP = np.sum( (Yi != c)&(y_predi==c) )\n",
    "                FN = np.sum( (Yi == c)&(y_predi != c))\n",
    "                IoU = TP/float(TP + FP + FN)\n",
    "                f.write(\"class {:12s}: #TP={:8.0f}, #FP={:8.0f}, #FN={:8.0f}, IoU={:4.3f}\".format(class_names[c],TP,FP,FN,IoU))\n",
    "                f.write(\"\\n\")\n",
    "                IoUs.append(IoU)\n",
    "            mIoU = np.mean(IoUs)\n",
    "            f.write(\"_________________\")\n",
    "            f.write(\"\\n\")\n",
    "            f.write(\"Mean IoU: {:4.3f}\".format(mIoU))\n",
    "            f.write(\"\\n\")\n",
    "            print(\"Mean IoU: {:4.3f}\".format(mIoU))\n",
    "\n",
    "    def PixelWise_acc(Yi,y_predi,folder):\n",
    "        with open(os.path.join(folder,'Pixcelacc.txt'),'w') as f:\n",
    "            # 画像の全画素数(縦 * 横)\n",
    "            N = Yi.shape[1] * Yi.shape[2]\n",
    "            # 1枚ごとの精度を保存する箱\n",
    "            accuracies = []\n",
    "\n",
    "            # 1枚ずつ精度を計算\n",
    "            for i,testlabel in enumerate(Yi):\n",
    "                # 正解画素数を計算\n",
    "                Ni = np.sum(y_predi[i] == testlabel)\n",
    "                # 精度の計算\n",
    "                accuracy = Ni / N\n",
    "                f.write(\"image {:02.0f}: #正解画素数={:6.0f}, #全画素数={:6.0f}, accuracy={:4.3f}\".format(i,Ni,N,accuracy))\n",
    "                f.write(\"\\n\")\n",
    "                accuracies.append(accuracy)\n",
    "            PixelWise_acc = np.mean(accuracies)\n",
    "            f.write(\"_________________\")\n",
    "            f.write(\"\\n\")\n",
    "            f.write(\"Pixel-wise Accuracy: {:4.3f}\".format(PixelWise_acc))\n",
    "            f.write(\"\\n\")\n",
    "            print(\"Pixel-wise Accuracy: {:4.3f}\".format(PixelWise_acc))\n",
    "            \n",
    "    def Mean_acc(Yi,y_predi,folder):\n",
    "        with open(os.path.join(folder,'Mean_acc.txt'), 'w') as f:\n",
    "            accuracies = []\n",
    "            Nclass = int(np.max(Yi)) + 1\n",
    "            for i in range(Nclass):\n",
    "                # クラスiの正解画素数\n",
    "                Ti = np.sum(Yi==i)\n",
    "                # 予測した画像のクラスiの画素数\n",
    "                Ni = np.sum((Yi==i)&(y_predi==i))\n",
    "                # クラスごとの正解率の計算\n",
    "                accuracy = Ni / Ti\n",
    "                f.write(\"class {:12s}: #Ni={:6.0f}, #Ti={:6.0f}, Mean_acc={:4.3f}\".format(class_names[i],Ni,Ti,accuracy))\n",
    "                f.write(\"\\n\")\n",
    "                accuracies.append(accuracy)\n",
    "            Mean_acc = np.mean(accuracies)\n",
    "            f.write(\"_________________\")\n",
    "            f.write(\"\\n\")\n",
    "            f.write(\"Mean Accuracy: {:4.3f}\".format(Mean_acc))\n",
    "            f.write(\"\\n\")\n",
    "            print(\"Mean Accuracy: {:4.3f}\".format(Mean_acc))\n",
    "\n",
    "    def FWIU(Yi,y_predi,folder):\n",
    "        with open(os.path.join(folder,'FWIU.txt'), 'w') as f:\n",
    "            accuracies=0\n",
    "            N = Yi.shape[0]*Yi.shape[1] * Yi.shape[2]\n",
    "            Nclass = int(np.max(Yi)+1)\n",
    "            for i in range(Nclass):\n",
    "                accuracy=0\n",
    "                Ti = np.sum(Yi==i)\n",
    "                Ni = np.sum((Yi==i)&(y_predi==i))\n",
    "                accuracy = Ni/(Ti+np.sum(y_predi==i)-Ni)*Ti\n",
    "                f.write(\"class {:12s}: #Ni={:7.0f}, #Ti={:7.0f}, f.w.IU={:10.3f}\".format(class_names[i],Ni,Ti,accuracy))\n",
    "                f.write(\"\\n\")\n",
    "                accuracies+=accuracy\n",
    "            fwIU = accuracies/N\n",
    "            f.write(\"_________________\")\n",
    "            f.write(\"\\n\")\n",
    "            f.write(\"N {:10f}\".format(N))\n",
    "            f.write(\"\\n\")\n",
    "            f.write(\"FWIU: {:4.3f}\".format(fwIU))\n",
    "            f.write(\"\\n\")\n",
    "            print(\"FWIU: {:4.3f}\".format(fwIU))"
   ]
  },
  {
   "cell_type": "code",
   "execution_count": 21,
   "metadata": {},
   "outputs": [
    {
     "name": "stdout",
     "output_type": "stream",
     "text": [
      "x_testi.shape, x_predi.shape: (96, 224, 224) (96, 224, 224)\n",
      "Mean IoU: 0.812\n",
      "Pixel-wise Accuracy: 0.943\n",
      "Mean Accuracy: 0.938\n",
      "FWIU: 0.901\n",
      "y_testi.shape, y_predi.shape: (30, 224, 224) (30, 224, 224)\n",
      "Mean IoU: 0.793\n",
      "Pixel-wise Accuracy: 0.939\n",
      "Mean Accuracy: 0.924\n",
      "FWIU: 0.895\n"
     ]
    }
   ],
   "source": [
    "# U-Net, 重みづけ無, 水増し無\n",
    "#model.load_weights(os.path.join(save_dir,\"UNet_NonWeight_model.h5\"))\n",
    "# U-Net, 重みづけ有, 水増し無\n",
    "#model.load_weights(os.path.join(save_dir,\"UNet_Weight_model.h5\"))\n",
    "\n",
    "#################################################################################\n",
    "# 訓練画像を用いて評価した時\n",
    "#################################################################################\n",
    "train_folder = os.path.join(result_dir, 'train')\n",
    "x_pred = model.predict(original_train)\n",
    "x_predi = np.argmax(x_pred, axis=3)\n",
    "x_testi = np.argmax(segmented_train, axis=3)\n",
    "print(\"x_testi.shape, x_predi.shape: \", end=\"\")\n",
    "print(x_testi.shape,x_predi.shape)\n",
    "\n",
    "evaluate.IoU(x_testi,x_predi,train_folder)\n",
    "evaluate.PixelWise_acc(x_testi,x_predi,train_folder)\n",
    "evaluate.Mean_acc(x_testi,x_predi,train_folder)\n",
    "evaluate.FWIU(x_testi,x_predi,train_folder)\n",
    "\n",
    "#################################################################################\n",
    "# 訓練画像を用いて評価した時\n",
    "#################################################################################\n",
    "test_folder = os.path.join(result_dir, 'test')\n",
    "y_pred = model.predict(original_test)\n",
    "y_predi = np.argmax(y_pred, axis=3)\n",
    "y_testi = np.argmax(segmented_test, axis=3)\n",
    "print(\"y_testi.shape, y_predi.shape: \", end=\"\")\n",
    "print(y_testi.shape,y_predi.shape)\n",
    "\n",
    "evaluate.IoU(y_testi,y_predi,test_folder)\n",
    "evaluate.PixelWise_acc(y_testi,y_predi,test_folder)\n",
    "evaluate.Mean_acc(y_testi,y_predi,test_folder)\n",
    "evaluate.FWIU(y_testi,y_predi,test_folder)"
   ]
  },
  {
   "cell_type": "code",
   "execution_count": null,
   "metadata": {},
   "outputs": [],
   "source": [
    "pil_img = Image.open(\"2007_000032.png\")\n",
    "print(\"Image mode\", pil_img.mode)\n",
    "\n",
    "palette = pil_img.getpalette()\n",
    "palette = np.array(palette,dtype=np.uint8).reshape(-1, 3)\n",
    "#palette[:21]\n"
   ]
  },
  {
   "cell_type": "code",
   "execution_count": null,
   "metadata": {},
   "outputs": [],
   "source": [
    "palette[21] = palette[-1]\n",
    "palette[:22]"
   ]
  },
  {
   "cell_type": "code",
   "execution_count": 22,
   "metadata": {},
   "outputs": [],
   "source": [
    "def output_img(y_pred,pre_input,pre_output):\n",
    "    filenames_predict = os.listdir(pre_input)\n",
    "    for num in range(y_pred.shape[0]):\n",
    "        #img = cv2.imread(os.path.join(pre_input,filenames_predict[num]))\n",
    "        # num番目の画像を対象\n",
    "        y = y_pred[num]\n",
    "        y = np.argmax(y, axis=2)\n",
    "        pre_img = np.empty((224,224,3),dtype=np.uint8)\n",
    "        \n",
    "        for i in range(224):\n",
    "            for j in range(224):\n",
    "                pre_img[i][j] = pixelID[y[i][j]]\n",
    "        pre_img = Image.fromarray((np.uint8(pre_img)))\n",
    "        \n",
    "        # 画像書き込み\n",
    "        pre_img.save(os.path.join(pre_output,filenames_predict[num][:-4] + '.png'))\n",
    "        #cv2.imwrite(os.path.join(pre_output,filenames_predict[num][:-4] + '.png'), pre_img)"
   ]
  },
  {
   "cell_type": "code",
   "execution_count": 23,
   "metadata": {},
   "outputs": [],
   "source": [
    "output_img(x_pred,train_img,train_pred)\n",
    "output_img(y_pred,test_img,test_pred)"
   ]
  },
  {
   "cell_type": "markdown",
   "metadata": {},
   "source": [
    "練習"
   ]
  },
  {
   "cell_type": "code",
   "execution_count": null,
   "metadata": {},
   "outputs": [],
   "source": [
    "pre_img = np.empty((224,224,3), dtype=np.uint8)\n",
    "\n",
    "for i in range(224):\n",
    "    for j in range(224):\n",
    "        pre_img[i][j] = palette[1]\n",
    "pre_img = Image.fromarray((np.uint8(pre_img)))\n",
    "pre_img.save('example.png')\n"
   ]
  },
  {
   "cell_type": "code",
   "execution_count": null,
   "metadata": {},
   "outputs": [],
   "source": []
  }
 ],
 "metadata": {
  "kernelspec": {
   "display_name": "Python 3",
   "language": "python",
   "name": "python3"
  },
  "language_info": {
   "codemirror_mode": {
    "name": "ipython",
    "version": 3
   },
   "file_extension": ".py",
   "mimetype": "text/x-python",
   "name": "python",
   "nbconvert_exporter": "python",
   "pygments_lexer": "ipython3",
   "version": "3.6.8"
  }
 },
 "nbformat": 4,
 "nbformat_minor": 2
}

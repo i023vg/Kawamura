{
 "cells": [
  {
   "cell_type": "code",
   "execution_count": 5,
   "metadata": {},
   "outputs": [],
   "source": [
    "import os\n",
    "import numpy as np\n",
    "from PIL import Image\n",
    "from sklearn.model_selection import train_test_split\n"
   ]
  },
  {
   "cell_type": "code",
   "execution_count": 18,
   "metadata": {},
   "outputs": [],
   "source": [
    "save_dir = os.path.join(\"RebarE\")\n",
    "dir_img = os.path.join(save_dir,\"Ree_Input\")\n",
    "dir_seg = os.path.join(save_dir,\"Ree_label\")\n",
    "\n",
    "\n",
    "train_img = os.path.join(save_dir,\"train_img\")\n",
    "train_seg = os.path.join(save_dir, \"train_seg\")\n",
    "val_img = os.path.join(save_dir, \"val_img\")\n",
    "val_seg = os.path.join(save_dir, \"val_seg\")\n",
    "test_img = os.path.join(save_dir, \"test_img\")\n",
    "test_seg = os.path.join(save_dir, \"test_seg\")"
   ]
  },
  {
   "cell_type": "code",
   "execution_count": 19,
   "metadata": {},
   "outputs": [
    {
     "name": "stdout",
     "output_type": "stream",
     "text": [
      "original_train data : 93\n",
      "segmented_train data : 93\n",
      "original_validation data : 24\n",
      "segmented_validation data : 24\n",
      "original_test data : 30\n",
      "segmented_test data : 30\n"
     ]
    }
   ],
   "source": [
    "original_trainval, original_test, segmented_trainval, segmented_test = train_test_split(os.listdir(dir_img), os.listdir(dir_seg), test_size=0.2, random_state=1)\n",
    "original_train, original_val, segmented_train, segmented_val = train_test_split(original_trainval, segmented_trainval, test_size=0.2, random_state=1)\n",
    "\n",
    "print(\"original_train data : \", end=\"\")\n",
    "print(len(original_train))\n",
    "print(\"segmented_train data : \", end=\"\")\n",
    "print(len(segmented_train))\n",
    "print(\"original_validation data : \", end=\"\")\n",
    "print(len(original_val))\n",
    "print(\"segmented_validation data : \", end=\"\")\n",
    "print(len(segmented_val))\n",
    "print(\"original_test data : \", end=\"\")\n",
    "print(len(original_test))\n",
    "print(\"segmented_test data : \", end=\"\")\n",
    "print(len(segmented_test))\n"
   ]
  },
  {
   "cell_type": "markdown",
   "metadata": {},
   "source": [
    "## opencv"
   ]
  },
  {
   "cell_type": "code",
   "execution_count": null,
   "metadata": {},
   "outputs": [],
   "source": [
    "\n",
    "for i in range(len(original_train)):\n",
    "    # 訓練画像振り分け\n",
    "    timg = cv2.imread(os.path.join(dir_img,original_train[i]))\n",
    "    cv2.imwrite(os.path.join(train_img, original_train[i]), timg)\n",
    "    timg_seg = cv2.imread(os.path.join(dir_seg,segmented_train[i]))\n",
    "    cv2.imwrite(os.path.join(train_seg, segmented_train[i]), timg_seg)\n",
    "\n",
    "for i in range(len(original_val)):\n",
    "    # 検証画像振り分け\n",
    "    vimg = cv2.imread(os.path.join(dir_img,original_val[i]))\n",
    "    cv2.imwrite(os.path.join(val_img, original_val[i]), vimg)\n",
    "    vimg_seg = cv2.imread(os.path.join(dir_seg,segmented_val[i]))\n",
    "    cv2.imwrite(os.path.join(val_seg, segmented_val[i]), vimg_seg)\n",
    "\n",
    "for i in range(len(original_test)):\n",
    "    # テスト画像振り分け\n",
    "    img = cv2.imread(os.path.join(dir_img,original_test[i]))\n",
    "    cv2.imwrite(os.path.join(test_img, original_test[i]), img)\n",
    "    img_seg = cv2.imread(os.path.join(dir_seg,segmented_test[i]))\n",
    "    cv2.imwrite(os.path.join(test_seg, segmented_test[i]), img_seg)"
   ]
  },
  {
   "cell_type": "markdown",
   "metadata": {},
   "source": [
    "## Pillow"
   ]
  },
  {
   "cell_type": "code",
   "execution_count": 20,
   "metadata": {},
   "outputs": [],
   "source": [
    "for i in range(len(original_train)):\n",
    "    # 訓練画像振り分け\n",
    "    timg = Image.open(os.path.join(dir_img, original_train[i]))\n",
    "    timg.save(os.path.join(train_img, original_train[i]))\n",
    "    tseg = Image.open(os.path.join(dir_seg,segmented_train[i]))\n",
    "    #tseg.putpalette(tseg.getpalette())\n",
    "    tseg.save(os.path.join(train_seg, segmented_train[i]))\n",
    "\n",
    "for i in range(len(original_val)):\n",
    "    # 検証画像振り分け\n",
    "    vimg = Image.open(os.path.join(dir_img,original_val[i]))\n",
    "    vimg.save(os.path.join(val_img, original_val[i]))\n",
    "    vseg = Image.open(os.path.join(dir_seg,segmented_val[i]))\n",
    "    #vseg.putpalette(vseg.getpalette())\n",
    "    vseg.save(os.path.join(val_seg, segmented_val[i]))\n",
    "\n",
    "for i in range(len(original_test)):\n",
    "    # テスト画像振り分け\n",
    "    img = Image.open(os.path.join(dir_img,original_test[i]))\n",
    "    img.save(os.path.join(test_img, original_test[i]))\n",
    "    iseg = Image.open(os.path.join(dir_seg,segmented_test[i]))\n",
    "    #iseg.putpalette(iseg.getpalette())\n",
    "    iseg.save(os.path.join(test_seg, segmented_test[i]))"
   ]
  },
  {
   "cell_type": "code",
   "execution_count": null,
   "metadata": {},
   "outputs": [],
   "source": [
    "pil_img = Image.open(os.path.join(dir_seg, segmented_train[0]))\n",
    "print(\"Image.mode\", pil_img.mode)\n",
    "palette = pil_img.getpalette()\n",
    "palette = np.array(palette).reshape(-1,3)\n",
    "print(palette.shape)"
   ]
  },
  {
   "cell_type": "code",
   "execution_count": null,
   "metadata": {},
   "outputs": [],
   "source": [
    "palette[:21]"
   ]
  },
  {
   "cell_type": "code",
   "execution_count": null,
   "metadata": {},
   "outputs": [],
   "source": []
  }
 ],
 "metadata": {
  "kernelspec": {
   "display_name": "Python 3",
   "language": "python",
   "name": "python3"
  },
  "language_info": {
   "codemirror_mode": {
    "name": "ipython",
    "version": 3
   },
   "file_extension": ".py",
   "mimetype": "text/x-python",
   "name": "python",
   "nbconvert_exporter": "python",
   "pygments_lexer": "ipython3",
   "version": "3.6.8"
  }
 },
 "nbformat": 4,
 "nbformat_minor": 2
}
